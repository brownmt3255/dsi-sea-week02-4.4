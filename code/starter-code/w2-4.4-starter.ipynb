{
 "cells": [
  {
   "cell_type": "code",
   "execution_count": 102,
   "metadata": {
    "button": false,
    "collapsed": true,
    "deletable": true,
    "new_sheet": false,
    "run_control": {
     "read_only": false
    }
   },
   "outputs": [],
   "source": [
    "import pandas as pd\n",
    "import numpy as np"
   ]
  },
  {
   "cell_type": "markdown",
   "metadata": {
    "button": false,
    "deletable": true,
    "new_sheet": false,
    "run_control": {
     "read_only": false
    }
   },
   "source": [
    "### Lab"
   ]
  },
  {
   "cell_type": "markdown",
   "metadata": {
    "button": false,
    "collapsed": false,
    "deletable": true,
    "new_sheet": false,
    "run_control": {
     "read_only": false
    }
   },
   "source": [
    "### Load your database here recruit!"
   ]
  },
  {
   "cell_type": "code",
   "execution_count": 103,
   "metadata": {
    "button": false,
    "collapsed": false,
    "deletable": true,
    "new_sheet": false,
    "run_control": {
     "read_only": false
    }
   },
   "outputs": [
    {
     "data": {
      "text/html": [
       "<div>\n",
       "<table border=\"1\" class=\"dataframe\">\n",
       "  <thead>\n",
       "    <tr style=\"text-align: right;\">\n",
       "      <th></th>\n",
       "      <th>page_id</th>\n",
       "      <th>name</th>\n",
       "      <th>urlslug</th>\n",
       "      <th>ID</th>\n",
       "      <th>ALIGN</th>\n",
       "      <th>EYE</th>\n",
       "      <th>HAIR</th>\n",
       "      <th>SEX</th>\n",
       "      <th>GSM</th>\n",
       "      <th>ALIVE</th>\n",
       "      <th>APPEARANCES</th>\n",
       "      <th>FIRST APPEARANCE</th>\n",
       "      <th>Year</th>\n",
       "    </tr>\n",
       "  </thead>\n",
       "  <tbody>\n",
       "    <tr>\n",
       "      <th>0</th>\n",
       "      <td>1678</td>\n",
       "      <td>Spider-Man (Peter Parker)</td>\n",
       "      <td>\\/Spider-Man_(Peter_Parker)</td>\n",
       "      <td>Secret Identity</td>\n",
       "      <td>Good Characters</td>\n",
       "      <td>Hazel Eyes</td>\n",
       "      <td>Brown Hair</td>\n",
       "      <td>Male Characters</td>\n",
       "      <td>NaN</td>\n",
       "      <td>Living Characters</td>\n",
       "      <td>4043.0</td>\n",
       "      <td>Aug-62</td>\n",
       "      <td>1962.0</td>\n",
       "    </tr>\n",
       "    <tr>\n",
       "      <th>1</th>\n",
       "      <td>7139</td>\n",
       "      <td>Captain America (Steven Rogers)</td>\n",
       "      <td>\\/Captain_America_(Steven_Rogers)</td>\n",
       "      <td>Public Identity</td>\n",
       "      <td>Good Characters</td>\n",
       "      <td>Blue Eyes</td>\n",
       "      <td>White Hair</td>\n",
       "      <td>Male Characters</td>\n",
       "      <td>NaN</td>\n",
       "      <td>Living Characters</td>\n",
       "      <td>3360.0</td>\n",
       "      <td>Mar-41</td>\n",
       "      <td>1941.0</td>\n",
       "    </tr>\n",
       "    <tr>\n",
       "      <th>2</th>\n",
       "      <td>64786</td>\n",
       "      <td>Wolverine (James \\\"Logan\\\" Howlett)</td>\n",
       "      <td>\\/Wolverine_(James_%22Logan%22_Howlett)</td>\n",
       "      <td>Public Identity</td>\n",
       "      <td>Neutral Characters</td>\n",
       "      <td>Blue Eyes</td>\n",
       "      <td>Black Hair</td>\n",
       "      <td>Male Characters</td>\n",
       "      <td>NaN</td>\n",
       "      <td>Living Characters</td>\n",
       "      <td>3061.0</td>\n",
       "      <td>Oct-74</td>\n",
       "      <td>1974.0</td>\n",
       "    </tr>\n",
       "    <tr>\n",
       "      <th>3</th>\n",
       "      <td>1868</td>\n",
       "      <td>Iron Man (Anthony \\\"Tony\\\" Stark)</td>\n",
       "      <td>\\/Iron_Man_(Anthony_%22Tony%22_Stark)</td>\n",
       "      <td>Public Identity</td>\n",
       "      <td>Good Characters</td>\n",
       "      <td>Blue Eyes</td>\n",
       "      <td>Black Hair</td>\n",
       "      <td>Male Characters</td>\n",
       "      <td>NaN</td>\n",
       "      <td>Living Characters</td>\n",
       "      <td>2961.0</td>\n",
       "      <td>Mar-63</td>\n",
       "      <td>1963.0</td>\n",
       "    </tr>\n",
       "    <tr>\n",
       "      <th>4</th>\n",
       "      <td>2460</td>\n",
       "      <td>Thor (Thor Odinson)</td>\n",
       "      <td>\\/Thor_(Thor_Odinson)</td>\n",
       "      <td>No Dual Identity</td>\n",
       "      <td>Good Characters</td>\n",
       "      <td>Blue Eyes</td>\n",
       "      <td>Blond Hair</td>\n",
       "      <td>Male Characters</td>\n",
       "      <td>NaN</td>\n",
       "      <td>Living Characters</td>\n",
       "      <td>2258.0</td>\n",
       "      <td>Nov-50</td>\n",
       "      <td>1950.0</td>\n",
       "    </tr>\n",
       "  </tbody>\n",
       "</table>\n",
       "</div>"
      ],
      "text/plain": [
       "   page_id                                 name  \\\n",
       "0     1678            Spider-Man (Peter Parker)   \n",
       "1     7139      Captain America (Steven Rogers)   \n",
       "2    64786  Wolverine (James \\\"Logan\\\" Howlett)   \n",
       "3     1868    Iron Man (Anthony \\\"Tony\\\" Stark)   \n",
       "4     2460                  Thor (Thor Odinson)   \n",
       "\n",
       "                                   urlslug                ID  \\\n",
       "0              \\/Spider-Man_(Peter_Parker)   Secret Identity   \n",
       "1        \\/Captain_America_(Steven_Rogers)   Public Identity   \n",
       "2  \\/Wolverine_(James_%22Logan%22_Howlett)   Public Identity   \n",
       "3    \\/Iron_Man_(Anthony_%22Tony%22_Stark)   Public Identity   \n",
       "4                    \\/Thor_(Thor_Odinson)  No Dual Identity   \n",
       "\n",
       "                ALIGN         EYE        HAIR              SEX  GSM  \\\n",
       "0     Good Characters  Hazel Eyes  Brown Hair  Male Characters  NaN   \n",
       "1     Good Characters   Blue Eyes  White Hair  Male Characters  NaN   \n",
       "2  Neutral Characters   Blue Eyes  Black Hair  Male Characters  NaN   \n",
       "3     Good Characters   Blue Eyes  Black Hair  Male Characters  NaN   \n",
       "4     Good Characters   Blue Eyes  Blond Hair  Male Characters  NaN   \n",
       "\n",
       "               ALIVE  APPEARANCES FIRST APPEARANCE    Year  \n",
       "0  Living Characters       4043.0           Aug-62  1962.0  \n",
       "1  Living Characters       3360.0           Mar-41  1941.0  \n",
       "2  Living Characters       3061.0           Oct-74  1974.0  \n",
       "3  Living Characters       2961.0           Mar-63  1963.0  \n",
       "4  Living Characters       2258.0           Nov-50  1950.0  "
      ]
     },
     "execution_count": 103,
     "metadata": {},
     "output_type": "execute_result"
    }
   ],
   "source": [
    "df= pd.read_csv('./../../assets/marvel.csv')\n",
    "\n",
    "df.head()"
   ]
  },
  {
   "cell_type": "markdown",
   "metadata": {
    "button": false,
    "deletable": true,
    "new_sheet": false,
    "run_control": {
     "read_only": false
    }
   },
   "source": [
    "### Here are our findings from extensive research and hero fighting. Run this field once. It will set up all of your data for you. Feel free to add additional weaknesses and affinities if you feel like it!"
   ]
  },
  {
   "cell_type": "code",
   "execution_count": 104,
   "metadata": {
    "button": false,
    "collapsed": false,
    "deletable": true,
    "new_sheet": false,
    "run_control": {
     "read_only": false
    }
   },
   "outputs": [],
   "source": [
    "def randomly(length):\n",
    "    return np.random.randint(0, length, size = 1)[0]\n",
    "\n",
    "def pull_unique(length, arr):\n",
    "    this_rand = randomly(length)\n",
    "    while this_rand in arr:\n",
    "        this_rand = randomly(length)\n",
    "    return this_rand\n",
    "\n",
    "\n",
    "value_length = len(df) + len(df) / 20\n",
    "\n",
    "#the hero's weakness\n",
    "weaknesses = [\"ponies\",\"butterflies\",\"apple pie\",\"spiders\",\n",
    "              \"giant robots\",\"fireballs\",\"tv static\",\"gerbils\",\n",
    "              \"lactose\",\"Walmart\",\"boomerangs\",\"kangaroos\",\"true love\", \"Shaq\"]\n",
    "\n",
    "#the hero's favorite hobby\n",
    "affinities = [\"balloons\",\"rubber ducks\",\"plasma laser guns\",\"ghosts\",\n",
    "              \"clouds\",\"bouncy balls\",\"milkshakes\",\"storms\",\n",
    "              \"preschools\",\"Panda Express\",\"shag rugs\",\"bubble gum\",\"Kanye West\"]\n",
    "\n",
    "super_weaknesses = [weaknesses[randomly(len(weaknesses))] for x in range(value_length)]\n",
    "affinities = [affinities[randomly(len(affinities))] for x in range(value_length)]\n",
    "killability = [randomly(10) + 1 for x in range(value_length)]\n",
    "more_ids = list(df['page_id'])\n",
    "\n",
    "for x in range(value_length - len(df)):\n",
    "    unique = [pull_unique(100000,more_ids)]\n",
    "    more_ids += unique\n",
    "    \n",
    "raw_data = {\n",
    "        'page_id' : more_ids,\n",
    "        'Weaknesses': super_weaknesses,\n",
    "        'Affinities': affinities,\n",
    "        'Killability': killability}"
   ]
  },
  {
   "cell_type": "markdown",
   "metadata": {
    "button": false,
    "deletable": true,
    "new_sheet": false,
    "run_control": {
     "read_only": false
    }
   },
   "source": [
    "### Create a new dataframe with your raw data"
   ]
  },
  {
   "cell_type": "code",
   "execution_count": 105,
   "metadata": {
    "button": false,
    "collapsed": false,
    "deletable": true,
    "new_sheet": false,
    "run_control": {
     "read_only": false
    }
   },
   "outputs": [
    {
     "name": "stdout",
     "output_type": "stream",
     "text": [
      "      Affinities  Killability Weaknesses  page_id\n",
      "0  Panda Express            2  kangaroos     1678\n",
      "1       balloons            8    lactose     7139\n",
      "2     Kanye West            5    spiders    64786\n",
      "3      shag rugs            2  apple pie     1868\n",
      "4   bouncy balls            9    lactose     2460\n"
     ]
    }
   ],
   "source": [
    "marvel = pd.DataFrame(raw_data)\n",
    "print marvel.head()"
   ]
  },
  {
   "cell_type": "markdown",
   "metadata": {
    "button": false,
    "deletable": true,
    "new_sheet": false,
    "run_control": {
     "read_only": false
    }
   },
   "source": [
    "### What print out the ids in your data that don't match the ids in marvel.csv"
   ]
  },
  {
   "cell_type": "code",
   "execution_count": 106,
   "metadata": {
    "button": false,
    "collapsed": false,
    "deletable": true,
    "new_sheet": false,
    "run_control": {
     "read_only": false
    }
   },
   "outputs": [
    {
     "name": "stdout",
     "output_type": "stream",
     "text": [
      "16376     9172.0\n",
      "16377    89606.0\n",
      "16378    77548.0\n",
      "16379    65295.0\n",
      "16380    74934.0\n",
      "16381    11861.0\n",
      "16382    74389.0\n",
      "16383    99430.0\n",
      "16384    81914.0\n",
      "16385    89347.0\n",
      "16386     2903.0\n",
      "16387    24539.0\n",
      "16388    86500.0\n",
      "16389    62936.0\n",
      "16390    29260.0\n",
      "16391    94091.0\n",
      "16392    23289.0\n",
      "16393    66477.0\n",
      "16394    93798.0\n",
      "16395    24925.0\n",
      "16396     8038.0\n",
      "16397    30581.0\n",
      "16398     7176.0\n",
      "16399    60145.0\n",
      "16400    80822.0\n",
      "16401    30591.0\n",
      "16402    98914.0\n",
      "16403    67691.0\n",
      "16404    91724.0\n",
      "16405    96443.0\n",
      "          ...   \n",
      "17164    83426.0\n",
      "17165    93878.0\n",
      "17166    92851.0\n",
      "17167    39272.0\n",
      "17168    70217.0\n",
      "17169    12575.0\n",
      "17170    29625.0\n",
      "17171    87350.0\n",
      "17172    82959.0\n",
      "17173    41476.0\n",
      "17174    64274.0\n",
      "17175    39279.0\n",
      "17176    11986.0\n",
      "17177    57311.0\n",
      "17178    22240.0\n",
      "17179    43486.0\n",
      "17180    56656.0\n",
      "17181    41497.0\n",
      "17182    24594.0\n",
      "17183    28583.0\n",
      "17184     5787.0\n",
      "17185    67465.0\n",
      "17186    25914.0\n",
      "17187    15811.0\n",
      "17188    34183.0\n",
      "17189    89913.0\n",
      "17190    19633.0\n",
      "17191    78881.0\n",
      "17192    55190.0\n",
      "17193     8240.0\n",
      "Name: page_id, dtype: float64\n"
     ]
    }
   ],
   "source": [
    "outer = pd.merge(df, marvel, how = 'outer', on = 'page_id')\n",
    "\n",
    "print outer.ix[outer.name.isnull() == True]['page_id']\n"
   ]
  },
  {
   "cell_type": "code",
   "execution_count": null,
   "metadata": {
    "button": false,
    "collapsed": true,
    "deletable": true,
    "new_sheet": false,
    "run_control": {
     "read_only": false
    }
   },
   "outputs": [],
   "source": []
  },
  {
   "cell_type": "markdown",
   "metadata": {
    "button": false,
    "deletable": true,
    "new_sheet": false,
    "run_control": {
     "read_only": false
    }
   },
   "source": [
    "### Perform an inner join with your dataframes. This should automatically throw out the values that don't map to each other"
   ]
  },
  {
   "cell_type": "code",
   "execution_count": 107,
   "metadata": {
    "button": false,
    "collapsed": false,
    "deletable": true,
    "new_sheet": false,
    "run_control": {
     "read_only": false
    }
   },
   "outputs": [
    {
     "data": {
      "text/html": [
       "<div>\n",
       "<table border=\"1\" class=\"dataframe\">\n",
       "  <thead>\n",
       "    <tr style=\"text-align: right;\">\n",
       "      <th></th>\n",
       "      <th>page_id</th>\n",
       "      <th>name</th>\n",
       "      <th>urlslug</th>\n",
       "      <th>ID</th>\n",
       "      <th>ALIGN</th>\n",
       "      <th>EYE</th>\n",
       "      <th>HAIR</th>\n",
       "      <th>SEX</th>\n",
       "      <th>GSM</th>\n",
       "      <th>ALIVE</th>\n",
       "      <th>APPEARANCES</th>\n",
       "      <th>FIRST APPEARANCE</th>\n",
       "      <th>Year</th>\n",
       "      <th>Affinities</th>\n",
       "      <th>Killability</th>\n",
       "      <th>Weaknesses</th>\n",
       "    </tr>\n",
       "  </thead>\n",
       "  <tbody>\n",
       "    <tr>\n",
       "      <th>0</th>\n",
       "      <td>1678</td>\n",
       "      <td>Spider-Man (Peter Parker)</td>\n",
       "      <td>\\/Spider-Man_(Peter_Parker)</td>\n",
       "      <td>Secret Identity</td>\n",
       "      <td>Good Characters</td>\n",
       "      <td>Hazel Eyes</td>\n",
       "      <td>Brown Hair</td>\n",
       "      <td>Male Characters</td>\n",
       "      <td>NaN</td>\n",
       "      <td>Living Characters</td>\n",
       "      <td>4043.0</td>\n",
       "      <td>Aug-62</td>\n",
       "      <td>1962.0</td>\n",
       "      <td>Panda Express</td>\n",
       "      <td>2</td>\n",
       "      <td>kangaroos</td>\n",
       "    </tr>\n",
       "    <tr>\n",
       "      <th>1</th>\n",
       "      <td>7139</td>\n",
       "      <td>Captain America (Steven Rogers)</td>\n",
       "      <td>\\/Captain_America_(Steven_Rogers)</td>\n",
       "      <td>Public Identity</td>\n",
       "      <td>Good Characters</td>\n",
       "      <td>Blue Eyes</td>\n",
       "      <td>White Hair</td>\n",
       "      <td>Male Characters</td>\n",
       "      <td>NaN</td>\n",
       "      <td>Living Characters</td>\n",
       "      <td>3360.0</td>\n",
       "      <td>Mar-41</td>\n",
       "      <td>1941.0</td>\n",
       "      <td>balloons</td>\n",
       "      <td>8</td>\n",
       "      <td>lactose</td>\n",
       "    </tr>\n",
       "    <tr>\n",
       "      <th>2</th>\n",
       "      <td>64786</td>\n",
       "      <td>Wolverine (James \\\"Logan\\\" Howlett)</td>\n",
       "      <td>\\/Wolverine_(James_%22Logan%22_Howlett)</td>\n",
       "      <td>Public Identity</td>\n",
       "      <td>Neutral Characters</td>\n",
       "      <td>Blue Eyes</td>\n",
       "      <td>Black Hair</td>\n",
       "      <td>Male Characters</td>\n",
       "      <td>NaN</td>\n",
       "      <td>Living Characters</td>\n",
       "      <td>3061.0</td>\n",
       "      <td>Oct-74</td>\n",
       "      <td>1974.0</td>\n",
       "      <td>Kanye West</td>\n",
       "      <td>5</td>\n",
       "      <td>spiders</td>\n",
       "    </tr>\n",
       "    <tr>\n",
       "      <th>3</th>\n",
       "      <td>1868</td>\n",
       "      <td>Iron Man (Anthony \\\"Tony\\\" Stark)</td>\n",
       "      <td>\\/Iron_Man_(Anthony_%22Tony%22_Stark)</td>\n",
       "      <td>Public Identity</td>\n",
       "      <td>Good Characters</td>\n",
       "      <td>Blue Eyes</td>\n",
       "      <td>Black Hair</td>\n",
       "      <td>Male Characters</td>\n",
       "      <td>NaN</td>\n",
       "      <td>Living Characters</td>\n",
       "      <td>2961.0</td>\n",
       "      <td>Mar-63</td>\n",
       "      <td>1963.0</td>\n",
       "      <td>shag rugs</td>\n",
       "      <td>2</td>\n",
       "      <td>apple pie</td>\n",
       "    </tr>\n",
       "    <tr>\n",
       "      <th>4</th>\n",
       "      <td>2460</td>\n",
       "      <td>Thor (Thor Odinson)</td>\n",
       "      <td>\\/Thor_(Thor_Odinson)</td>\n",
       "      <td>No Dual Identity</td>\n",
       "      <td>Good Characters</td>\n",
       "      <td>Blue Eyes</td>\n",
       "      <td>Blond Hair</td>\n",
       "      <td>Male Characters</td>\n",
       "      <td>NaN</td>\n",
       "      <td>Living Characters</td>\n",
       "      <td>2258.0</td>\n",
       "      <td>Nov-50</td>\n",
       "      <td>1950.0</td>\n",
       "      <td>bouncy balls</td>\n",
       "      <td>9</td>\n",
       "      <td>lactose</td>\n",
       "    </tr>\n",
       "  </tbody>\n",
       "</table>\n",
       "</div>"
      ],
      "text/plain": [
       "   page_id                                 name  \\\n",
       "0     1678            Spider-Man (Peter Parker)   \n",
       "1     7139      Captain America (Steven Rogers)   \n",
       "2    64786  Wolverine (James \\\"Logan\\\" Howlett)   \n",
       "3     1868    Iron Man (Anthony \\\"Tony\\\" Stark)   \n",
       "4     2460                  Thor (Thor Odinson)   \n",
       "\n",
       "                                   urlslug                ID  \\\n",
       "0              \\/Spider-Man_(Peter_Parker)   Secret Identity   \n",
       "1        \\/Captain_America_(Steven_Rogers)   Public Identity   \n",
       "2  \\/Wolverine_(James_%22Logan%22_Howlett)   Public Identity   \n",
       "3    \\/Iron_Man_(Anthony_%22Tony%22_Stark)   Public Identity   \n",
       "4                    \\/Thor_(Thor_Odinson)  No Dual Identity   \n",
       "\n",
       "                ALIGN         EYE        HAIR              SEX  GSM  \\\n",
       "0     Good Characters  Hazel Eyes  Brown Hair  Male Characters  NaN   \n",
       "1     Good Characters   Blue Eyes  White Hair  Male Characters  NaN   \n",
       "2  Neutral Characters   Blue Eyes  Black Hair  Male Characters  NaN   \n",
       "3     Good Characters   Blue Eyes  Black Hair  Male Characters  NaN   \n",
       "4     Good Characters   Blue Eyes  Blond Hair  Male Characters  NaN   \n",
       "\n",
       "               ALIVE  APPEARANCES FIRST APPEARANCE    Year     Affinities  \\\n",
       "0  Living Characters       4043.0           Aug-62  1962.0  Panda Express   \n",
       "1  Living Characters       3360.0           Mar-41  1941.0       balloons   \n",
       "2  Living Characters       3061.0           Oct-74  1974.0     Kanye West   \n",
       "3  Living Characters       2961.0           Mar-63  1963.0      shag rugs   \n",
       "4  Living Characters       2258.0           Nov-50  1950.0   bouncy balls   \n",
       "\n",
       "   Killability Weaknesses  \n",
       "0            2  kangaroos  \n",
       "1            8    lactose  \n",
       "2            5    spiders  \n",
       "3            2  apple pie  \n",
       "4            9    lactose  "
      ]
     },
     "execution_count": 107,
     "metadata": {},
     "output_type": "execute_result"
    }
   ],
   "source": [
    "inner = pd.merge(df, marvel, how = 'inner', on = 'page_id')\n",
    "inner.head()"
   ]
  },
  {
   "cell_type": "markdown",
   "metadata": {
    "button": false,
    "deletable": true,
    "new_sheet": false,
    "run_control": {
     "read_only": false
    }
   },
   "source": [
    "### The Brain ([Leader of the League/Brotherhood of Evil](https://en.wikipedia.org/wiki/Brain_(comics))) has asked you to evaluate your data. Since funds are short, the league wants to know which Good Aligned hero weakness is most beneficial to invest in. Make sure the heros are still alive. No use investing in problems we don't have."
   ]
  },
  {
   "cell_type": "code",
   "execution_count": 108,
   "metadata": {
    "button": false,
    "collapsed": false,
    "deletable": true,
    "new_sheet": false,
    "run_control": {
     "read_only": false
    }
   },
   "outputs": [
    {
     "name": "stdout",
     "output_type": "stream",
     "text": [
      "ponies    308\n",
      "Name: Weaknesses, dtype: int64\n",
      "\n",
      "\n",
      "0           kangaroos\n",
      "1             lactose\n",
      "3           apple pie\n",
      "4             lactose\n",
      "5                Shaq\n",
      "6             lactose\n",
      "7           true love\n",
      "9           true love\n",
      "10            spiders\n",
      "11        butterflies\n",
      "13            spiders\n",
      "14       giant robots\n",
      "15       giant robots\n",
      "16       giant robots\n",
      "17            spiders\n",
      "19               Shaq\n",
      "20          kangaroos\n",
      "22               Shaq\n",
      "23             ponies\n",
      "24          tv static\n",
      "26             ponies\n",
      "28          tv static\n",
      "29            Walmart\n",
      "30            gerbils\n",
      "31            lactose\n",
      "32          true love\n",
      "33          apple pie\n",
      "34         boomerangs\n",
      "37         boomerangs\n",
      "38          apple pie\n",
      "             ...     \n",
      "16299          ponies\n",
      "16301       kangaroos\n",
      "16302      boomerangs\n",
      "16303            Shaq\n",
      "16304      boomerangs\n",
      "16308         Walmart\n",
      "16310          ponies\n",
      "16313         Walmart\n",
      "16315       kangaroos\n",
      "16316       tv static\n",
      "16318         spiders\n",
      "16324         gerbils\n",
      "16325       fireballs\n",
      "16326         lactose\n",
      "16327         lactose\n",
      "16328         Walmart\n",
      "16330       tv static\n",
      "16334            Shaq\n",
      "16335       fireballs\n",
      "16338          ponies\n",
      "16341         lactose\n",
      "16342       kangaroos\n",
      "16343     butterflies\n",
      "16345         spiders\n",
      "16349       apple pie\n",
      "16360            Shaq\n",
      "16363     butterflies\n",
      "16367          ponies\n",
      "16369            Shaq\n",
      "16372       tv static\n",
      "Name: Weaknesses, dtype: object\n"
     ]
    }
   ],
   "source": [
    "#Alive & Good & Most Common Weakness\n",
    "\n",
    "weak_enemys = inner[(inner.ALIVE == 'Living Characters') & (inner.ALIGN == 'Good Characters')]['Weaknesses']\n",
    "print weak_enemys.value_counts()[0:1:1]\n",
    "print \"\\n\"\n",
    "print weak_enemys\n",
    "\n"
   ]
  },
  {
   "cell_type": "markdown",
   "metadata": {
    "button": false,
    "deletable": true,
    "new_sheet": false,
    "run_control": {
     "read_only": false
    }
   },
   "source": [
    "### Phobia ([League/Brotherhood of Evil Platinum Member](https://en.wikipedia.org/wiki/Phobia_(comics)) is more interested in the affinities of the Good Aligned heros with their identities exposed. Which affinity would you recommend the guild invest in?"
   ]
  },
  {
   "cell_type": "code",
   "execution_count": 109,
   "metadata": {
    "button": false,
    "collapsed": false,
    "deletable": true,
    "new_sheet": false,
    "run_control": {
     "read_only": false
    }
   },
   "outputs": [
    {
     "name": "stdout",
     "output_type": "stream",
     "text": [
      "shag rugs    142\n",
      "Name: Affinities, dtype: int64\n",
      "\n",
      "\n"
     ]
    }
   ],
   "source": [
    "affinity_enemys = inner[(inner.ID == 'Public Identity') & (inner.ALIGN == 'Good Characters')]['Affinities']\n",
    "print affinity_enemys.value_counts()[0:1:1]\n",
    "print \"\\n\"\n"
   ]
  },
  {
   "cell_type": "markdown",
   "metadata": {
    "button": false,
    "deletable": true,
    "new_sheet": false,
    "run_control": {
     "read_only": false
    }
   },
   "source": [
    "### Madame Rouge ([League/Brotherhood of Evil House Mom](https://en.wikipedia.org/wiki/Madame_Rouge)) is concerned about the killability of our heros based on their alignment. Let's create a table for her, comparing our hero's alignments with their killability."
   ]
  },
  {
   "cell_type": "code",
   "execution_count": 110,
   "metadata": {
    "button": false,
    "collapsed": false,
    "deletable": true,
    "new_sheet": false,
    "run_control": {
     "read_only": false
    }
   },
   "outputs": [
    {
     "data": {
      "text/html": [
       "<div>\n",
       "<table border=\"1\" class=\"dataframe\">\n",
       "  <thead>\n",
       "    <tr style=\"text-align: right;\">\n",
       "      <th></th>\n",
       "      <th>Killability</th>\n",
       "    </tr>\n",
       "    <tr>\n",
       "      <th>ALIGN</th>\n",
       "      <th></th>\n",
       "    </tr>\n",
       "  </thead>\n",
       "  <tbody>\n",
       "    <tr>\n",
       "      <th>Bad Characters</th>\n",
       "      <td>36921.0</td>\n",
       "    </tr>\n",
       "    <tr>\n",
       "      <th>Good Characters</th>\n",
       "      <td>25522.0</td>\n",
       "    </tr>\n",
       "    <tr>\n",
       "      <th>Neutral Characters</th>\n",
       "      <td>12025.0</td>\n",
       "    </tr>\n",
       "    <tr>\n",
       "      <th>All</th>\n",
       "      <td>74468.0</td>\n",
       "    </tr>\n",
       "  </tbody>\n",
       "</table>\n",
       "</div>"
      ],
      "text/plain": [
       "                    Killability\n",
       "ALIGN                          \n",
       "Bad Characters          36921.0\n",
       "Good Characters         25522.0\n",
       "Neutral Characters      12025.0\n",
       "All                     74468.0"
      ]
     },
     "execution_count": 110,
     "metadata": {},
     "output_type": "execute_result"
    }
   ],
   "source": [
    "pd.pivot_table(inner,index=[\"ALIGN\"],values=[\"Killability\"],aggfunc=np.sum,margins=True)"
   ]
  },
  {
   "cell_type": "markdown",
   "metadata": {
    "button": false,
    "deletable": true,
    "new_sheet": false,
    "run_control": {
     "read_only": false
    }
   },
   "source": [
    "### Madame Rouge ([League/Brotherhood of Evil House Mom](https://en.wikipedia.org/wiki/Madame_Rouge)) is also concerned about the affinity of our heros based on their alignment. Let's create a table for her, comparing our hero's alignments with their affinities."
   ]
  },
  {
   "cell_type": "code",
   "execution_count": 111,
   "metadata": {
    "button": false,
    "collapsed": false,
    "deletable": true,
    "new_sheet": false,
    "run_control": {
     "read_only": false
    }
   },
   "outputs": [
    {
     "data": {
      "text/html": [
       "<div>\n",
       "<table border=\"1\" class=\"dataframe\">\n",
       "  <thead>\n",
       "    <tr>\n",
       "      <th></th>\n",
       "      <th colspan=\"14\" halign=\"left\">page_id</th>\n",
       "    </tr>\n",
       "    <tr>\n",
       "      <th>Affinities</th>\n",
       "      <th>Kanye West</th>\n",
       "      <th>Panda Express</th>\n",
       "      <th>balloons</th>\n",
       "      <th>bouncy balls</th>\n",
       "      <th>bubble gum</th>\n",
       "      <th>clouds</th>\n",
       "      <th>ghosts</th>\n",
       "      <th>milkshakes</th>\n",
       "      <th>plasma laser guns</th>\n",
       "      <th>preschools</th>\n",
       "      <th>rubber ducks</th>\n",
       "      <th>shag rugs</th>\n",
       "      <th>storms</th>\n",
       "      <th>All</th>\n",
       "    </tr>\n",
       "    <tr>\n",
       "      <th>ALIGN</th>\n",
       "      <th></th>\n",
       "      <th></th>\n",
       "      <th></th>\n",
       "      <th></th>\n",
       "      <th></th>\n",
       "      <th></th>\n",
       "      <th></th>\n",
       "      <th></th>\n",
       "      <th></th>\n",
       "      <th></th>\n",
       "      <th></th>\n",
       "      <th></th>\n",
       "      <th></th>\n",
       "      <th></th>\n",
       "    </tr>\n",
       "  </thead>\n",
       "  <tbody>\n",
       "    <tr>\n",
       "      <th>Bad Characters</th>\n",
       "      <td>513.0</td>\n",
       "      <td>537.0</td>\n",
       "      <td>528.0</td>\n",
       "      <td>554.0</td>\n",
       "      <td>517.0</td>\n",
       "      <td>511.0</td>\n",
       "      <td>527.0</td>\n",
       "      <td>497.0</td>\n",
       "      <td>544.0</td>\n",
       "      <td>498.0</td>\n",
       "      <td>517.0</td>\n",
       "      <td>494.0</td>\n",
       "      <td>483.0</td>\n",
       "      <td>6720.0</td>\n",
       "    </tr>\n",
       "    <tr>\n",
       "      <th>Good Characters</th>\n",
       "      <td>362.0</td>\n",
       "      <td>369.0</td>\n",
       "      <td>366.0</td>\n",
       "      <td>359.0</td>\n",
       "      <td>321.0</td>\n",
       "      <td>346.0</td>\n",
       "      <td>334.0</td>\n",
       "      <td>369.0</td>\n",
       "      <td>343.0</td>\n",
       "      <td>341.0</td>\n",
       "      <td>399.0</td>\n",
       "      <td>360.0</td>\n",
       "      <td>367.0</td>\n",
       "      <td>4636.0</td>\n",
       "    </tr>\n",
       "    <tr>\n",
       "      <th>Neutral Characters</th>\n",
       "      <td>155.0</td>\n",
       "      <td>159.0</td>\n",
       "      <td>170.0</td>\n",
       "      <td>168.0</td>\n",
       "      <td>190.0</td>\n",
       "      <td>172.0</td>\n",
       "      <td>143.0</td>\n",
       "      <td>180.0</td>\n",
       "      <td>181.0</td>\n",
       "      <td>168.0</td>\n",
       "      <td>172.0</td>\n",
       "      <td>176.0</td>\n",
       "      <td>174.0</td>\n",
       "      <td>2208.0</td>\n",
       "    </tr>\n",
       "    <tr>\n",
       "      <th>All</th>\n",
       "      <td>1030.0</td>\n",
       "      <td>1065.0</td>\n",
       "      <td>1064.0</td>\n",
       "      <td>1081.0</td>\n",
       "      <td>1028.0</td>\n",
       "      <td>1029.0</td>\n",
       "      <td>1004.0</td>\n",
       "      <td>1046.0</td>\n",
       "      <td>1068.0</td>\n",
       "      <td>1007.0</td>\n",
       "      <td>1088.0</td>\n",
       "      <td>1030.0</td>\n",
       "      <td>1024.0</td>\n",
       "      <td>13564.0</td>\n",
       "    </tr>\n",
       "  </tbody>\n",
       "</table>\n",
       "</div>"
      ],
      "text/plain": [
       "                      page_id                                                 \\\n",
       "Affinities         Kanye West Panda Express balloons bouncy balls bubble gum   \n",
       "ALIGN                                                                          \n",
       "Bad Characters          513.0         537.0    528.0        554.0      517.0   \n",
       "Good Characters         362.0         369.0    366.0        359.0      321.0   \n",
       "Neutral Characters      155.0         159.0    170.0        168.0      190.0   \n",
       "All                    1030.0        1065.0   1064.0       1081.0     1028.0   \n",
       "\n",
       "                                                                            \\\n",
       "Affinities          clouds  ghosts milkshakes plasma laser guns preschools   \n",
       "ALIGN                                                                        \n",
       "Bad Characters       511.0   527.0      497.0             544.0      498.0   \n",
       "Good Characters      346.0   334.0      369.0             343.0      341.0   \n",
       "Neutral Characters   172.0   143.0      180.0             181.0      168.0   \n",
       "All                 1029.0  1004.0     1046.0            1068.0     1007.0   \n",
       "\n",
       "                                                            \n",
       "Affinities         rubber ducks shag rugs  storms      All  \n",
       "ALIGN                                                       \n",
       "Bad Characters            517.0     494.0   483.0   6720.0  \n",
       "Good Characters           399.0     360.0   367.0   4636.0  \n",
       "Neutral Characters        172.0     176.0   174.0   2208.0  \n",
       "All                      1088.0    1030.0  1024.0  13564.0  "
      ]
     },
     "execution_count": 111,
     "metadata": {},
     "output_type": "execute_result"
    }
   ],
   "source": [
    "\n",
    "pd.pivot_table(inner,index=[\"ALIGN\"], columns = ['Affinities'], values=[\"page_id\"],aggfunc='count',margins=True)\n",
    "\n",
    "# df2.pivot_table(values='X', rows='Y', cols='Z', \n",
    "#                          aggfunc=lambda x: len(x.unique()))"
   ]
  },
  {
   "cell_type": "markdown",
   "metadata": {
    "button": false,
    "deletable": true,
    "new_sheet": false,
    "run_control": {
     "read_only": false
    }
   },
   "source": [
    "### General Immortus ([League/Brotherhood of Founding Member](https://en.wikipedia.org/wiki/General_Immortus)) took a look at your data and is concerned. Shouldn't we be adding all of our new data to our database? Let's merge all of our columns without regard to if they align or not."
   ]
  },
  {
   "cell_type": "code",
   "execution_count": 112,
   "metadata": {
    "button": false,
    "collapsed": false,
    "deletable": true,
    "new_sheet": false,
    "run_control": {
     "read_only": false
    }
   },
   "outputs": [
    {
     "data": {
      "text/html": [
       "<div>\n",
       "<table border=\"1\" class=\"dataframe\">\n",
       "  <thead>\n",
       "    <tr style=\"text-align: right;\">\n",
       "      <th></th>\n",
       "      <th>page_id</th>\n",
       "      <th>name</th>\n",
       "      <th>urlslug</th>\n",
       "      <th>ID</th>\n",
       "      <th>ALIGN</th>\n",
       "      <th>EYE</th>\n",
       "      <th>HAIR</th>\n",
       "      <th>SEX</th>\n",
       "      <th>GSM</th>\n",
       "      <th>ALIVE</th>\n",
       "      <th>APPEARANCES</th>\n",
       "      <th>FIRST APPEARANCE</th>\n",
       "      <th>Year</th>\n",
       "      <th>Affinities</th>\n",
       "      <th>Killability</th>\n",
       "      <th>Weaknesses</th>\n",
       "    </tr>\n",
       "  </thead>\n",
       "  <tbody>\n",
       "    <tr>\n",
       "      <th>0</th>\n",
       "      <td>1678.0</td>\n",
       "      <td>Spider-Man (Peter Parker)</td>\n",
       "      <td>\\/Spider-Man_(Peter_Parker)</td>\n",
       "      <td>Secret Identity</td>\n",
       "      <td>Good Characters</td>\n",
       "      <td>Hazel Eyes</td>\n",
       "      <td>Brown Hair</td>\n",
       "      <td>Male Characters</td>\n",
       "      <td>NaN</td>\n",
       "      <td>Living Characters</td>\n",
       "      <td>4043.0</td>\n",
       "      <td>Aug-62</td>\n",
       "      <td>1962.0</td>\n",
       "      <td>Panda Express</td>\n",
       "      <td>2</td>\n",
       "      <td>kangaroos</td>\n",
       "    </tr>\n",
       "    <tr>\n",
       "      <th>1</th>\n",
       "      <td>7139.0</td>\n",
       "      <td>Captain America (Steven Rogers)</td>\n",
       "      <td>\\/Captain_America_(Steven_Rogers)</td>\n",
       "      <td>Public Identity</td>\n",
       "      <td>Good Characters</td>\n",
       "      <td>Blue Eyes</td>\n",
       "      <td>White Hair</td>\n",
       "      <td>Male Characters</td>\n",
       "      <td>NaN</td>\n",
       "      <td>Living Characters</td>\n",
       "      <td>3360.0</td>\n",
       "      <td>Mar-41</td>\n",
       "      <td>1941.0</td>\n",
       "      <td>balloons</td>\n",
       "      <td>8</td>\n",
       "      <td>lactose</td>\n",
       "    </tr>\n",
       "    <tr>\n",
       "      <th>2</th>\n",
       "      <td>64786.0</td>\n",
       "      <td>Wolverine (James \\\"Logan\\\" Howlett)</td>\n",
       "      <td>\\/Wolverine_(James_%22Logan%22_Howlett)</td>\n",
       "      <td>Public Identity</td>\n",
       "      <td>Neutral Characters</td>\n",
       "      <td>Blue Eyes</td>\n",
       "      <td>Black Hair</td>\n",
       "      <td>Male Characters</td>\n",
       "      <td>NaN</td>\n",
       "      <td>Living Characters</td>\n",
       "      <td>3061.0</td>\n",
       "      <td>Oct-74</td>\n",
       "      <td>1974.0</td>\n",
       "      <td>Kanye West</td>\n",
       "      <td>5</td>\n",
       "      <td>spiders</td>\n",
       "    </tr>\n",
       "    <tr>\n",
       "      <th>3</th>\n",
       "      <td>1868.0</td>\n",
       "      <td>Iron Man (Anthony \\\"Tony\\\" Stark)</td>\n",
       "      <td>\\/Iron_Man_(Anthony_%22Tony%22_Stark)</td>\n",
       "      <td>Public Identity</td>\n",
       "      <td>Good Characters</td>\n",
       "      <td>Blue Eyes</td>\n",
       "      <td>Black Hair</td>\n",
       "      <td>Male Characters</td>\n",
       "      <td>NaN</td>\n",
       "      <td>Living Characters</td>\n",
       "      <td>2961.0</td>\n",
       "      <td>Mar-63</td>\n",
       "      <td>1963.0</td>\n",
       "      <td>shag rugs</td>\n",
       "      <td>2</td>\n",
       "      <td>apple pie</td>\n",
       "    </tr>\n",
       "    <tr>\n",
       "      <th>4</th>\n",
       "      <td>2460.0</td>\n",
       "      <td>Thor (Thor Odinson)</td>\n",
       "      <td>\\/Thor_(Thor_Odinson)</td>\n",
       "      <td>No Dual Identity</td>\n",
       "      <td>Good Characters</td>\n",
       "      <td>Blue Eyes</td>\n",
       "      <td>Blond Hair</td>\n",
       "      <td>Male Characters</td>\n",
       "      <td>NaN</td>\n",
       "      <td>Living Characters</td>\n",
       "      <td>2258.0</td>\n",
       "      <td>Nov-50</td>\n",
       "      <td>1950.0</td>\n",
       "      <td>bouncy balls</td>\n",
       "      <td>9</td>\n",
       "      <td>lactose</td>\n",
       "    </tr>\n",
       "  </tbody>\n",
       "</table>\n",
       "</div>"
      ],
      "text/plain": [
       "   page_id                                 name  \\\n",
       "0   1678.0            Spider-Man (Peter Parker)   \n",
       "1   7139.0      Captain America (Steven Rogers)   \n",
       "2  64786.0  Wolverine (James \\\"Logan\\\" Howlett)   \n",
       "3   1868.0    Iron Man (Anthony \\\"Tony\\\" Stark)   \n",
       "4   2460.0                  Thor (Thor Odinson)   \n",
       "\n",
       "                                   urlslug                ID  \\\n",
       "0              \\/Spider-Man_(Peter_Parker)   Secret Identity   \n",
       "1        \\/Captain_America_(Steven_Rogers)   Public Identity   \n",
       "2  \\/Wolverine_(James_%22Logan%22_Howlett)   Public Identity   \n",
       "3    \\/Iron_Man_(Anthony_%22Tony%22_Stark)   Public Identity   \n",
       "4                    \\/Thor_(Thor_Odinson)  No Dual Identity   \n",
       "\n",
       "                ALIGN         EYE        HAIR              SEX  GSM  \\\n",
       "0     Good Characters  Hazel Eyes  Brown Hair  Male Characters  NaN   \n",
       "1     Good Characters   Blue Eyes  White Hair  Male Characters  NaN   \n",
       "2  Neutral Characters   Blue Eyes  Black Hair  Male Characters  NaN   \n",
       "3     Good Characters   Blue Eyes  Black Hair  Male Characters  NaN   \n",
       "4     Good Characters   Blue Eyes  Blond Hair  Male Characters  NaN   \n",
       "\n",
       "               ALIVE  APPEARANCES FIRST APPEARANCE    Year     Affinities  \\\n",
       "0  Living Characters       4043.0           Aug-62  1962.0  Panda Express   \n",
       "1  Living Characters       3360.0           Mar-41  1941.0       balloons   \n",
       "2  Living Characters       3061.0           Oct-74  1974.0     Kanye West   \n",
       "3  Living Characters       2961.0           Mar-63  1963.0      shag rugs   \n",
       "4  Living Characters       2258.0           Nov-50  1950.0   bouncy balls   \n",
       "\n",
       "   Killability Weaknesses  \n",
       "0            2  kangaroos  \n",
       "1            8    lactose  \n",
       "2            5    spiders  \n",
       "3            2  apple pie  \n",
       "4            9    lactose  "
      ]
     },
     "execution_count": 112,
     "metadata": {},
     "output_type": "execute_result"
    }
   ],
   "source": [
    "outer = pd.merge(df, marvel, how = 'outer', on = 'page_id')\n",
    "outer.head()"
   ]
  },
  {
   "cell_type": "markdown",
   "metadata": {
    "button": false,
    "deletable": true,
    "new_sheet": false,
    "run_control": {
     "read_only": false
    }
   },
   "source": [
    "### The General wants us to assume that all the heros in this new table without entries are deceased and good aligned. Let's update the table with our new data"
   ]
  },
  {
   "cell_type": "code",
   "execution_count": 113,
   "metadata": {
    "button": false,
    "collapsed": false,
    "deletable": true,
    "new_sheet": false,
    "run_control": {
     "read_only": false
    }
   },
   "outputs": [
    {
     "name": "stdout",
     "output_type": "stream",
     "text": [
      "Empty DataFrame\n",
      "Columns: [name, ALIGN]\n",
      "Index: []\n",
      "Empty DataFrame\n",
      "Columns: [name, ALIVE]\n",
      "Index: []\n"
     ]
    }
   ],
   "source": [
    "outer.ALIGN.fillna(\"Good Characters\", inplace = True)\n",
    "print outer[outer.ALIGN.isnull()][[\"name\",\"ALIGN\"]]\n",
    "outer.ALIVE.fillna(\"Deceased Characters\", inplace = True)\n",
    "print outer[outer.ALIVE.isnull()][[\"name\",\"ALIVE\"]]\n",
    "outer.loc[outer.ALIVE == 'GDeceased Characters','ALIVE'] = 'Deceased Characters'#I had to do this because of typo\n"
   ]
  },
  {
   "cell_type": "markdown",
   "metadata": {
    "button": false,
    "deletable": true,
    "new_sheet": false,
    "run_control": {
     "read_only": false
    }
   },
   "source": [
    "### The General wants us to update our dates of first appearances so that we can more easily work with the data. Add a new column with the updated datetime field called \"Character Created\". If the date is blank, use 0 as the value (we will need to filter out these values during our analysis)."
   ]
  },
  {
   "cell_type": "code",
   "execution_count": 114,
   "metadata": {
    "button": false,
    "collapsed": false,
    "deletable": true,
    "new_sheet": false,
    "run_control": {
     "read_only": false
    }
   },
   "outputs": [
    {
     "data": {
      "text/html": [
       "<div>\n",
       "<table border=\"1\" class=\"dataframe\">\n",
       "  <thead>\n",
       "    <tr style=\"text-align: right;\">\n",
       "      <th></th>\n",
       "      <th>page_id</th>\n",
       "      <th>name</th>\n",
       "      <th>urlslug</th>\n",
       "      <th>ID</th>\n",
       "      <th>ALIGN</th>\n",
       "      <th>EYE</th>\n",
       "      <th>HAIR</th>\n",
       "      <th>SEX</th>\n",
       "      <th>GSM</th>\n",
       "      <th>ALIVE</th>\n",
       "      <th>APPEARANCES</th>\n",
       "      <th>FIRST APPEARANCE</th>\n",
       "      <th>Year</th>\n",
       "      <th>Affinities</th>\n",
       "      <th>Killability</th>\n",
       "      <th>Weaknesses</th>\n",
       "      <th>Character_Created</th>\n",
       "    </tr>\n",
       "  </thead>\n",
       "  <tbody>\n",
       "    <tr>\n",
       "      <th>10491</th>\n",
       "      <td>642582.0</td>\n",
       "      <td>Mike Malone (Earth-616)</td>\n",
       "      <td>\\/Mike_Malone_(Earth-616)</td>\n",
       "      <td>No Dual Identity</td>\n",
       "      <td>Bad Characters</td>\n",
       "      <td>NaN</td>\n",
       "      <td>Bald</td>\n",
       "      <td>Male Characters</td>\n",
       "      <td>NaN</td>\n",
       "      <td>Deceased Characters</td>\n",
       "      <td>1.0</td>\n",
       "      <td>Oct-39</td>\n",
       "      <td>1939</td>\n",
       "      <td>preschools</td>\n",
       "      <td>3</td>\n",
       "      <td>tv static</td>\n",
       "      <td>1939-10-01</td>\n",
       "    </tr>\n",
       "    <tr>\n",
       "      <th>8402</th>\n",
       "      <td>331150.0</td>\n",
       "      <td>Quog (Earth-616)</td>\n",
       "      <td>\\/Quog_(Earth-616)</td>\n",
       "      <td>No Dual Identity</td>\n",
       "      <td>Neutral Characters</td>\n",
       "      <td>NaN</td>\n",
       "      <td>NaN</td>\n",
       "      <td>NaN</td>\n",
       "      <td>NaN</td>\n",
       "      <td>Living Characters</td>\n",
       "      <td>2.0</td>\n",
       "      <td>Oct-39</td>\n",
       "      <td>1939</td>\n",
       "      <td>Kanye West</td>\n",
       "      <td>2</td>\n",
       "      <td>fireballs</td>\n",
       "      <td>1939-10-01</td>\n",
       "    </tr>\n",
       "    <tr>\n",
       "      <th>2550</th>\n",
       "      <td>331152.0</td>\n",
       "      <td>Trajah (Earth-616)</td>\n",
       "      <td>\\/Trajah_(Earth-616)</td>\n",
       "      <td>No Dual Identity</td>\n",
       "      <td>Good Characters</td>\n",
       "      <td>NaN</td>\n",
       "      <td>NaN</td>\n",
       "      <td>Male Characters</td>\n",
       "      <td>NaN</td>\n",
       "      <td>Living Characters</td>\n",
       "      <td>13.0</td>\n",
       "      <td>Oct-39</td>\n",
       "      <td>1939</td>\n",
       "      <td>bouncy balls</td>\n",
       "      <td>7</td>\n",
       "      <td>Walmart</td>\n",
       "      <td>1939-10-01</td>\n",
       "    </tr>\n",
       "    <tr>\n",
       "      <th>10483</th>\n",
       "      <td>642914.0</td>\n",
       "      <td>John Crafton (Earth-616)</td>\n",
       "      <td>\\/John_Crafton_(Earth-616)</td>\n",
       "      <td>No Dual Identity</td>\n",
       "      <td>Bad Characters</td>\n",
       "      <td>NaN</td>\n",
       "      <td>NaN</td>\n",
       "      <td>Male Characters</td>\n",
       "      <td>NaN</td>\n",
       "      <td>Deceased Characters</td>\n",
       "      <td>1.0</td>\n",
       "      <td>Oct-39</td>\n",
       "      <td>1939</td>\n",
       "      <td>Panda Express</td>\n",
       "      <td>3</td>\n",
       "      <td>spiders</td>\n",
       "      <td>1939-10-01</td>\n",
       "    </tr>\n",
       "    <tr>\n",
       "      <th>10484</th>\n",
       "      <td>642807.0</td>\n",
       "      <td>John Dillon (Earth-616)</td>\n",
       "      <td>\\/John_Dillon_(Earth-616)</td>\n",
       "      <td>No Dual Identity</td>\n",
       "      <td>Bad Characters</td>\n",
       "      <td>NaN</td>\n",
       "      <td>NaN</td>\n",
       "      <td>Male Characters</td>\n",
       "      <td>NaN</td>\n",
       "      <td>Deceased Characters</td>\n",
       "      <td>1.0</td>\n",
       "      <td>Oct-39</td>\n",
       "      <td>1939</td>\n",
       "      <td>bubble gum</td>\n",
       "      <td>1</td>\n",
       "      <td>kangaroos</td>\n",
       "      <td>1939-10-01</td>\n",
       "    </tr>\n",
       "  </tbody>\n",
       "</table>\n",
       "</div>"
      ],
      "text/plain": [
       "        page_id                      name                     urlslug  \\\n",
       "10491  642582.0   Mike Malone (Earth-616)   \\/Mike_Malone_(Earth-616)   \n",
       "8402   331150.0          Quog (Earth-616)          \\/Quog_(Earth-616)   \n",
       "2550   331152.0        Trajah (Earth-616)        \\/Trajah_(Earth-616)   \n",
       "10483  642914.0  John Crafton (Earth-616)  \\/John_Crafton_(Earth-616)   \n",
       "10484  642807.0   John Dillon (Earth-616)   \\/John_Dillon_(Earth-616)   \n",
       "\n",
       "                     ID               ALIGN  EYE  HAIR              SEX  GSM  \\\n",
       "10491  No Dual Identity      Bad Characters  NaN  Bald  Male Characters  NaN   \n",
       "8402   No Dual Identity  Neutral Characters  NaN   NaN              NaN  NaN   \n",
       "2550   No Dual Identity     Good Characters  NaN   NaN  Male Characters  NaN   \n",
       "10483  No Dual Identity      Bad Characters  NaN   NaN  Male Characters  NaN   \n",
       "10484  No Dual Identity      Bad Characters  NaN   NaN  Male Characters  NaN   \n",
       "\n",
       "                     ALIVE  APPEARANCES FIRST APPEARANCE  Year     Affinities  \\\n",
       "10491  Deceased Characters          1.0           Oct-39  1939     preschools   \n",
       "8402     Living Characters          2.0           Oct-39  1939     Kanye West   \n",
       "2550     Living Characters         13.0           Oct-39  1939   bouncy balls   \n",
       "10483  Deceased Characters          1.0           Oct-39  1939  Panda Express   \n",
       "10484  Deceased Characters          1.0           Oct-39  1939     bubble gum   \n",
       "\n",
       "       Killability Weaknesses Character_Created  \n",
       "10491            3  tv static        1939-10-01  \n",
       "8402             2  fireballs        1939-10-01  \n",
       "2550             7    Walmart        1939-10-01  \n",
       "10483            3    spiders        1939-10-01  \n",
       "10484            1  kangaroos        1939-10-01  "
      ]
     },
     "execution_count": 114,
     "metadata": {},
     "output_type": "execute_result"
    }
   ],
   "source": [
    "from datetime import date\n",
    "from datetime import timedelta\n",
    "\n",
    "\n",
    "outer['Year'] = outer['Year'].fillna(0)\n",
    "outer['Year'] = outer['Year'].astype(int)\n",
    "\n",
    "outer['Character_Created'] = pd.to_datetime(outer['FIRST APPEARANCE'].str[:3] + '-' + outer['Year'][0:-1].map(str), format=\"%b-%Y\")\n",
    "\n",
    "outer.sort_values('Character_Created', axis=0, ascending=True, inplace=True, kind='quicksort', na_position='last')\n",
    "\n",
    "outer.head()\n",
    "\n",
    "\n"
   ]
  },
  {
   "cell_type": "markdown",
   "metadata": {
    "button": false,
    "deletable": true,
    "new_sheet": false,
    "run_control": {
     "read_only": false
    }
   },
   "source": [
    "### Who was the first superhero to appear in our table?"
   ]
  },
  {
   "cell_type": "markdown",
   "metadata": {},
   "source": []
  },
  {
   "cell_type": "code",
   "execution_count": 144,
   "metadata": {
    "button": false,
    "collapsed": false,
    "deletable": true,
    "new_sheet": false,
    "run_control": {
     "read_only": false
    }
   },
   "outputs": [
    {
     "name": "stdout",
     "output_type": "stream",
     "text": [
      "Mike Malone (Earth-616)\n"
     ]
    }
   ],
   "source": [
    "outer[outer.Character_Created == min(outer.Character_Created)][0:].sort_index\n",
    "\n",
    "print(\"Mike Malone (Earth-616)\")\n",
    "\n",
    "\n"
   ]
  },
  {
   "cell_type": "markdown",
   "metadata": {
    "button": false,
    "deletable": true,
    "new_sheet": false,
    "run_control": {
     "read_only": false
    }
   },
   "source": [
    "### Who was the lastest superhero to appear in our table?"
   ]
  },
  {
   "cell_type": "code",
   "execution_count": 146,
   "metadata": {
    "button": false,
    "collapsed": false,
    "deletable": true,
    "new_sheet": false,
    "run_control": {
     "read_only": false
    }
   },
   "outputs": [
    {
     "name": "stdout",
     "output_type": "stream",
     "text": [
      " Death (11th Century) (Earth-616)\n"
     ]
    }
   ],
   "source": [
    "outer[outer.Character_Created == max(outer.Character_Created)][0:].sort_index\n",
    "print(\" Death (11th Century) (Earth-616)\")\n"
   ]
  },
  {
   "cell_type": "markdown",
   "metadata": {
    "button": false,
    "deletable": true,
    "new_sheet": false,
    "run_control": {
     "read_only": false
    }
   },
   "source": [
    "### What was the date difference between their appearances?"
   ]
  },
  {
   "cell_type": "code",
   "execution_count": 150,
   "metadata": {
    "button": false,
    "collapsed": false,
    "deletable": true,
    "new_sheet": false,
    "run_control": {
     "read_only": false
    }
   },
   "outputs": [
    {
     "name": "stdout",
     "output_type": "stream",
     "text": [
      "26907 days 00:00:00\n"
     ]
    }
   ],
   "source": [
    "print max(outer.Character_Created) - min(outer.Character_Created)\n"
   ]
  },
  {
   "cell_type": "code",
   "execution_count": null,
   "metadata": {
    "collapsed": true
   },
   "outputs": [],
   "source": []
  }
 ],
 "metadata": {
  "anaconda-cloud": {},
  "kernelspec": {
   "display_name": "Python [default]",
   "language": "python",
   "name": "python2"
  },
  "language_info": {
   "codemirror_mode": {
    "name": "ipython",
    "version": 2
   },
   "file_extension": ".py",
   "mimetype": "text/x-python",
   "name": "python",
   "nbconvert_exporter": "python",
   "pygments_lexer": "ipython2",
   "version": "2.7.12"
  }
 },
 "nbformat": 4,
 "nbformat_minor": 0
}
